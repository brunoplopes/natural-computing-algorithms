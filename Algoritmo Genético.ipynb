{
 "cells": [
  {
   "cell_type": "code",
   "execution_count": null,
   "metadata": {
    "colab": {
     "base_uri": "https://localhost:8080/",
     "height": 401
    },
    "colab_type": "code",
    "executionInfo": {
     "elapsed": 970,
     "status": "ok",
     "timestamp": 1535144804580,
     "user": {
      "displayName": "Bruno Lopes",
      "photoUrl": "https://lh3.googleusercontent.com/a/default-user=s128",
      "userId": "114627773546570570803"
     },
     "user_tz": 180
    },
    "id": "QnYLf_1BwPvf",
    "outputId": "222a314a-68ed-453b-e60b-4cfb6b431ed8"
   },
   "outputs": [],
   "source": [
    "import numpy as np\n",
    "import matplotlib\n",
    "import matplotlib.pyplot as plt\n",
    "from random import randint\n",
    "%matplotlib inline\n",
    "import numpy as np\n",
    "import matplotlib.pyplot as plt\n",
    "\n",
    "from matplotlib import animation, rc\n",
    "from IPython.display import HTML\n",
    "import operator\n",
    "import random"
   ]
  },
  {
   "cell_type": "markdown",
   "metadata": {},
   "source": [
    "Declaração das Constantes"
   ]
  },
  {
   "cell_type": "code",
   "execution_count": null,
   "metadata": {},
   "outputs": [],
   "source": [
    "COLUMN_ROW = 5\n",
    "SIZE_MATRIX = COLUMN_ROW * COLUMN_ROW\n",
    "SIZE_POPULATION = 20"
   ]
  },
  {
   "cell_type": "markdown",
   "metadata": {},
   "source": [
    "Gerando individuos aleatoriamente"
   ]
  },
  {
   "cell_type": "code",
   "execution_count": null,
   "metadata": {
    "colab": {
     "base_uri": "https://localhost:8080/",
     "height": 425
    },
    "colab_type": "code",
    "executionInfo": {
     "elapsed": 602,
     "status": "ok",
     "timestamp": 1535144723486,
     "user": {
      "displayName": "Bruno Lopes",
      "photoUrl": "https://lh3.googleusercontent.com/a/default-user=s128",
      "userId": "114627773546570570803"
     },
     "user_tz": 180
    },
    "id": "jhEDwenQwPvt",
    "outputId": "473500ca-4a9f-4cfb-e252-0ca2988c1262"
   },
   "outputs": [],
   "source": [
    "individuals = np.random.randint(0,2,(SIZE_POPULATION, SIZE_MATRIX))\n",
    "print(individuals)"
   ]
  },
  {
   "cell_type": "markdown",
   "metadata": {},
   "source": [
    "Gerando genótipo aleatoriamente"
   ]
  },
  {
   "cell_type": "markdown",
   "metadata": {},
   "source": [
    "Função para exibir amtrix de elementos"
   ]
  },
  {
   "cell_type": "code",
   "execution_count": null,
   "metadata": {},
   "outputs": [],
   "source": [
    "def plot_element(element, text):\n",
    "    fig, ax = plt.subplots()\n",
    "    matrix = element.reshape((COLUMN_ROW, COLUMN_ROW))\n",
    "    im = ax.imshow(matrix)\n",
    "    ax.set_title(text)\n",
    "    fig.tight_layout()\n",
    "    plt.show()"
   ]
  },
  {
   "cell_type": "code",
   "execution_count": null,
   "metadata": {
    "colab": {
     "base_uri": "https://localhost:8080/",
     "height": 34
    },
    "colab_type": "code",
    "executionInfo": {
     "elapsed": 636,
     "status": "ok",
     "timestamp": 1535144724353,
     "user": {
      "displayName": "Bruno Lopes",
      "photoUrl": "https://lh3.googleusercontent.com/a/default-user=s128",
      "userId": "114627773546570570803"
     },
     "user_tz": 180
    },
    "id": "h5c35DXhwPvx",
    "outputId": "d1b01048-6103-41b4-c16a-7029243946bb"
   },
   "outputs": [],
   "source": [
    "# genotype = np.random.randint(0,2, SIZE_MATRIX)\n",
    "genotype = np.array([0,1,1,1,0,  0,0,0,1,0, 0,1,1,1,0,  0,1,0,0,0, 0,1,1,1,0])\n",
    "plot_element(genotype, \"Fenotipo\")"
   ]
  },
  {
   "cell_type": "markdown",
   "metadata": {},
   "source": [
    "Coparando os genes iguais"
   ]
  },
  {
   "cell_type": "code",
   "execution_count": null,
   "metadata": {
    "colab": {
     "base_uri": "https://localhost:8080/",
     "height": 9809
    },
    "colab_type": "code",
    "executionInfo": {
     "elapsed": 580,
     "status": "ok",
     "timestamp": 1535144730384,
     "user": {
      "displayName": "Bruno Lopes",
      "photoUrl": "https://lh3.googleusercontent.com/a/default-user=s128",
      "userId": "114627773546570570803"
     },
     "user_tz": 180
    },
    "id": "MTmcF4NgwPv5",
    "outputId": "f0ff618a-6cc4-4c51-c5ab-f8472c5dd060",
    "scrolled": true
   },
   "outputs": [],
   "source": [
    "def generate_truth_table(individuals, genotype):\n",
    "    return individuals == genotype"
   ]
  },
  {
   "cell_type": "markdown",
   "metadata": {},
   "source": [
    "Somando para pegar os indivíduos com maior número de genes iguas"
   ]
  },
  {
   "cell_type": "code",
   "execution_count": null,
   "metadata": {},
   "outputs": [],
   "source": [
    "def sum_individuals (truth_table):\n",
    "    return np.sum(truth_table, axis=1)"
   ]
  },
  {
   "cell_type": "markdown",
   "metadata": {},
   "source": [
    "Gerando um dicionário para ordenar os elementos"
   ]
  },
  {
   "cell_type": "code",
   "execution_count": null,
   "metadata": {},
   "outputs": [],
   "source": [
    "def sort_individuals(sum_i):\n",
    "    dic = {}\n",
    "    for i in range(len(sum_i)):\n",
    "        dic[i] = sum_i[i]\n",
    "\n",
    "    return sorted(dic.items(), key=operator.itemgetter(1))"
   ]
  },
  {
   "cell_type": "markdown",
   "metadata": {},
   "source": [
    "Algoritmo da roleta"
   ]
  },
  {
   "cell_type": "code",
   "execution_count": null,
   "metadata": {},
   "outputs": [],
   "source": [
    "def roulette(individuals, fitness):\n",
    "    sum_fitness =  np.sum(fitness)\n",
    "    new_individuals = individuals.copy()\n",
    "    for i in range(SIZE_POPULATION):\n",
    "        n = random.randint(0, sum_fitness)\n",
    "        j = 0\n",
    "        n = n - fitness[j]\n",
    "        while n > 0 and j < (SIZE_POPULATION - 1):\n",
    "            n = n - fitness[j]\n",
    "            j = j + 1\n",
    "            \n",
    "        new_individuals[i] = individuals[j]\n",
    "    \n",
    "    return new_individuals"
   ]
  },
  {
   "cell_type": "markdown",
   "metadata": {},
   "source": [
    "Função para determinar o ponto de corte"
   ]
  },
  {
   "cell_type": "code",
   "execution_count": null,
   "metadata": {},
   "outputs": [],
   "source": [
    "def new_court():\n",
    "    percentage = random.randint(50, 60)\n",
    "    return int(SIZE_MATRIX - (SIZE_MATRIX * percentage / 100))"
   ]
  },
  {
   "cell_type": "markdown",
   "metadata": {},
   "source": [
    "Função de crossover"
   ]
  },
  {
   "cell_type": "code",
   "execution_count": null,
   "metadata": {},
   "outputs": [],
   "source": [
    "def crossover(individuals, sorted_d):\n",
    "    i = 0\n",
    "    while i < len(individuals):\n",
    "        j = new_court()\n",
    "        while j < SIZE_MATRIX:\n",
    "            gene_parent_1 = individuals[sorted_d[i][0]][j]\n",
    "            gene_parent_2 = individuals[sorted_d[i + 1][0]][j]\n",
    "             \n",
    "            individuals[sorted_d[i][0]][j] = gene_parent_2\n",
    "            individuals[sorted_d[i + 1][0]][j] = gene_parent_1\n",
    "\n",
    "            j += 1 \n",
    "\n",
    "\n",
    "        i += 2\n",
    "    return individuals\n",
    "\n"
   ]
  },
  {
   "cell_type": "markdown",
   "metadata": {},
   "source": [
    "Função de mutação"
   ]
  },
  {
   "cell_type": "code",
   "execution_count": null,
   "metadata": {},
   "outputs": [],
   "source": [
    "def mutation(individuals):\n",
    "    for i in range(SIZE_POPULATION):\n",
    "        n = random.randint(0, SIZE_MATRIX -1)\n",
    "        individuals[i][n] = int(not individuals[i][n])\n",
    "    return individuals\n"
   ]
  },
  {
   "cell_type": "markdown",
   "metadata": {},
   "source": [
    "Algorítimo genético"
   ]
  },
  {
   "cell_type": "code",
   "execution_count": null,
   "metadata": {},
   "outputs": [],
   "source": [
    "def genetic_algorithm(individuals, genotype):\n",
    "    truth_table = generate_truth_table(individuals, genotype)\n",
    "    fitness = sum_individuals(truth_table)\n",
    "    new_individuals = roulette(individuals, fitness)\n",
    "    new_truth_table = generate_truth_table(new_individuals, genotype)\n",
    "    new_fitness = sum_individuals(new_truth_table)    \n",
    "    sorted_d = sort_individuals(new_fitness)\n",
    "    new_individuals = crossover(new_individuals, sorted_d)\n",
    "   \n",
    "    return mutation(new_individuals)"
   ]
  },
  {
   "cell_type": "markdown",
   "metadata": {},
   "source": [
    "Verificar se existe o genótipo na lista de indivíduos"
   ]
  },
  {
   "cell_type": "code",
   "execution_count": null,
   "metadata": {},
   "outputs": [],
   "source": [
    "def exists_genotype_in_individuos(individuals, genotype):\n",
    "    truth_table = generate_truth_table(individuals, genotype)\n",
    "    sum_i = sum_individuals(truth_table)\n",
    "    for i in range(SIZE_POPULATION):\n",
    "        if(sum_i[i] == SIZE_MATRIX):\n",
    "            return True, i\n",
    "    else: return False"
   ]
  },
  {
   "cell_type": "code",
   "execution_count": null,
   "metadata": {},
   "outputs": [],
   "source": [
    "# list_individuals = []\n",
    "count = 0"
   ]
  },
  {
   "cell_type": "code",
   "execution_count": null,
   "metadata": {},
   "outputs": [],
   "source": [
    "new_individuals = genetic_algorithm(individuals, genotype)\n",
    "exits_genotype = exists_genotype_in_individuos(new_individuals, genotype)\n",
    "exits_genotype = False\n",
    "while not exits_genotype:\n",
    "    new_individuals = genetic_algorithm(new_individuals, genotype)\n",
    "    exits_genotype = exists_genotype_in_individuos(new_individuals, genotype)\n",
    "    count += 1\n",
    "#     list_individuals.append(new_individuals.copy())"
   ]
  },
  {
   "cell_type": "markdown",
   "metadata": {},
   "source": [
    "Genótipo e indivíduo"
   ]
  },
  {
   "cell_type": "code",
   "execution_count": null,
   "metadata": {},
   "outputs": [],
   "source": [
    "print(genotype)\n",
    "element = new_individuals[exits_genotype[1]]\n",
    "print(element)"
   ]
  },
  {
   "cell_type": "code",
   "execution_count": null,
   "metadata": {},
   "outputs": [],
   "source": [
    "plot_element(genotype, \"Fenotipo\")\n",
    "plot_element(element, \"Fenotipo encontrado\")"
   ]
  },
  {
   "cell_type": "code",
   "execution_count": null,
   "metadata": {},
   "outputs": [],
   "source": [
    "# print(len(list_individuals))\n",
    "print(count)"
   ]
  },
  {
   "cell_type": "code",
   "execution_count": null,
   "metadata": {
    "scrolled": true
   },
   "outputs": [],
   "source": [
    "# # First set up the figure, the axis, and the plot element we want to animate\n",
    "# fig, ax = plt.subplots()\n",
    "\n",
    "# # im = ax.imshow(np.asmatrix(list_individuos[0]))\n",
    "# ax.set_title(\"INDIVIDUOS\")\n",
    "# fig.tight_layout()\n",
    "\n",
    "# size_list = len(list_individuals)\n",
    "# ax.matshow(list_individuals[0])\n",
    "\n",
    "# # animation function. This is called sequentially\n",
    "# def animate(i):\n",
    "#     return ax.imshow(list_individuals[i]), \n",
    "\n",
    "# # call the animator. blit=True means only re-draw the parts that have changed.\n",
    "# anim = animation.FuncAnimation(fig, animate, frames=size_list, blit=True)\n",
    "# anim.save(\"movie.mp4\")\n",
    "# # plt.show()"
   ]
  },
  {
   "cell_type": "code",
   "execution_count": null,
   "metadata": {},
   "outputs": [],
   "source": []
  }
 ],
 "metadata": {
  "colab": {
   "collapsed_sections": [],
   "name": "Algoritmo Genético.ipynb",
   "provenance": [],
   "toc_visible": true,
   "version": "0.3.2"
  },
  "kernelspec": {
   "display_name": "Python 3",
   "language": "python",
   "name": "python3"
  },
  "language_info": {
   "codemirror_mode": {
    "name": "ipython",
    "version": 3
   },
   "file_extension": ".py",
   "mimetype": "text/x-python",
   "name": "python",
   "nbconvert_exporter": "python",
   "pygments_lexer": "ipython3",
   "version": "3.5.5"
  }
 },
 "nbformat": 4,
 "nbformat_minor": 1
}
