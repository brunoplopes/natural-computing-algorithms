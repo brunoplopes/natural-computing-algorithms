{
 "cells": [
  {
   "cell_type": "code",
   "execution_count": 1,
   "metadata": {
    "colab": {
     "base_uri": "https://localhost:8080/",
     "height": 401
    },
    "colab_type": "code",
    "executionInfo": {
     "elapsed": 970,
     "status": "ok",
     "timestamp": 1535144804580,
     "user": {
      "displayName": "Bruno Lopes",
      "photoUrl": "https://lh3.googleusercontent.com/a/default-user=s128",
      "userId": "114627773546570570803"
     },
     "user_tz": 180
    },
    "id": "QnYLf_1BwPvf",
    "outputId": "222a314a-68ed-453b-e60b-4cfb6b431ed8"
   },
   "outputs": [],
   "source": [
    "import numpy as np\n",
    "import matplotlib\n",
    "import matplotlib.pyplot as plt\n",
    "from random import randint\n",
    "%matplotlib inline\n",
    "import numpy as np\n",
    "import matplotlib.pyplot as plt\n",
    "\n",
    "from matplotlib import animation, rc\n",
    "from IPython.display import HTML"
   ]
  },
  {
   "cell_type": "code",
   "execution_count": 9,
   "metadata": {
    "colab": {
     "base_uri": "https://localhost:8080/",
     "height": 425
    },
    "colab_type": "code",
    "executionInfo": {
     "elapsed": 602,
     "status": "ok",
     "timestamp": 1535144723486,
     "user": {
      "displayName": "Bruno Lopes",
      "photoUrl": "https://lh3.googleusercontent.com/a/default-user=s128",
      "userId": "114627773546570570803"
     },
     "user_tz": 180
    },
    "id": "jhEDwenQwPvt",
    "outputId": "473500ca-4a9f-4cfb-e252-0ca2988c1262"
   },
   "outputs": [
    {
     "name": "stdout",
     "output_type": "stream",
     "text": [
      "[[0 1 1 1 1 0 0 1 1]\n",
      " [0 1 1 0 1 1 1 0 0]\n",
      " [0 0 0 1 1 1 1 0 1]\n",
      " [1 0 0 0 1 1 1 1 0]\n",
      " [0 1 1 0 0 0 1 1 1]\n",
      " [0 1 0 1 1 1 0 0 1]\n",
      " [0 0 0 0 0 0 0 1 1]\n",
      " [0 1 1 0 1 1 0 0 0]\n",
      " [0 1 0 1 1 0 0 0 0]\n",
      " [1 1 0 0 0 0 1 1 1]\n",
      " [0 1 1 0 1 0 0 0 0]\n",
      " [1 1 0 1 1 0 1 0 0]\n",
      " [0 1 0 0 1 1 1 1 0]\n",
      " [1 0 0 0 0 1 1 1 0]\n",
      " [1 0 1 1 0 1 1 1 0]\n",
      " [1 0 0 0 1 1 0 0 1]\n",
      " [1 1 0 0 1 0 0 0 0]\n",
      " [0 1 1 0 1 1 1 1 1]\n",
      " [1 1 0 1 0 0 1 0 1]\n",
      " [1 0 1 0 1 0 1 0 0]]\n"
     ]
    }
   ],
   "source": [
    "x = np.random.randint(0,2,(20,9))\n",
    "print(x)"
   ]
  },
  {
   "cell_type": "code",
   "execution_count": 12,
   "metadata": {
    "colab": {
     "base_uri": "https://localhost:8080/",
     "height": 34
    },
    "colab_type": "code",
    "executionInfo": {
     "elapsed": 636,
     "status": "ok",
     "timestamp": 1535144724353,
     "user": {
      "displayName": "Bruno Lopes",
      "photoUrl": "https://lh3.googleusercontent.com/a/default-user=s128",
      "userId": "114627773546570570803"
     },
     "user_tz": 180
    },
    "id": "h5c35DXhwPvx",
    "outputId": "d1b01048-6103-41b4-c16a-7029243946bb"
   },
   "outputs": [
    {
     "name": "stdout",
     "output_type": "stream",
     "text": [
      "[1 1 1 0 0 1 0 1 1]\n"
     ]
    }
   ],
   "source": [
    "genotipo = np.random.randint(0,2, 9)\n",
    "print(genotipo)"
   ]
  },
  {
   "cell_type": "code",
   "execution_count": 15,
   "metadata": {
    "colab": {
     "base_uri": "https://localhost:8080/",
     "height": 9809
    },
    "colab_type": "code",
    "executionInfo": {
     "elapsed": 580,
     "status": "ok",
     "timestamp": 1535144730384,
     "user": {
      "displayName": "Bruno Lopes",
      "photoUrl": "https://lh3.googleusercontent.com/a/default-user=s128",
      "userId": "114627773546570570803"
     },
     "user_tz": 180
    },
    "id": "MTmcF4NgwPv5",
    "outputId": "f0ff618a-6cc4-4c51-c5ab-f8472c5dd060"
   },
   "outputs": [
    {
     "name": "stdout",
     "output_type": "stream",
     "text": [
      "[[False  True  True False False False  True  True  True]\n",
      " [False  True  True  True False  True False False False]\n",
      " [False False False False False  True False False  True]\n",
      " [ True False False  True False  True False  True False]\n",
      " [False  True  True  True  True False False  True  True]\n",
      " [False  True False False False  True  True False  True]\n",
      " [False False False  True  True False  True  True  True]\n",
      " [False  True  True  True False  True  True False False]\n",
      " [False  True False False False False  True False False]\n",
      " [ True  True False  True  True False False  True  True]\n",
      " [False  True  True  True False False  True False False]\n",
      " [ True  True False False False False False False False]\n",
      " [False  True False  True False  True False  True False]\n",
      " [ True False False  True  True  True False  True False]\n",
      " [ True False  True False  True  True False  True False]\n",
      " [ True False False  True False  True  True False  True]\n",
      " [ True  True False  True False False  True False False]\n",
      " [False  True  True  True False  True False  True  True]\n",
      " [ True  True False False  True False False False  True]\n",
      " [ True False  True  True False False False False False]]\n"
     ]
    }
   ],
   "source": [
    "table = x == genotipo\n",
    "print(table)\n",
    "soma = np.sum(table, axis=1)"
   ]
  },
  {
   "cell_type": "code",
   "execution_count": 73,
   "metadata": {},
   "outputs": [
    {
     "name": "stdout",
     "output_type": "stream",
     "text": [
      "[5 4 2 4 6 4 5 5 2 6 4 2 4 5 5 5 4 6 4 3]\n",
      "0\n",
      "1\n",
      "2\n",
      "3\n",
      "4\n",
      "5\n",
      "6\n",
      "7\n",
      "8\n",
      "9\n",
      "10\n",
      "11\n",
      "12\n",
      "13\n",
      "14\n",
      "15\n",
      "16\n",
      "17\n",
      "18\n",
      "19\n",
      "{0: 5, 1: 4, 2: 2, 3: 4, 4: 6, 5: 4, 6: 5, 7: 5, 8: 2, 9: 6, 10: 4, 11: 2, 12: 4, 13: 5, 14: 5, 15: 5, 16: 4, 17: 6, 18: 4, 19: 3}\n",
      "5\n",
      "[2, 2, 2, 3, 4, 4, 4, 4, 4, 4, 4, 5, 5, 5, 5, 5, 5, 6, 6, 6]\n",
      "2\n"
     ]
    }
   ],
   "source": [
    "print(soma)\n",
    "dic = {}\n",
    "for i in range(len(soma)):\n",
    "    print(i)\n",
    "    dic[i] = soma[i]\n",
    "\n",
    "sorted_dic = sorted(dic.values())\n",
    "print(dic)\n",
    "print(dic[0])\n",
    "print(sorted_dic)\n",
    "print(sorted_dic[0])"
   ]
  },
  {
   "cell_type": "code",
   "execution_count": 14,
   "metadata": {},
   "outputs": [
    {
     "data": {
      "image/png": "[encoded data removed]",
      "text/plain": [
       "<Figure size 432x288 with 1 Axes>"
      ]
     },
     "metadata": {},
     "output_type": "display_data"
    }
   ],
   "source": [
    "fig, ax = plt.subplots()\n",
    "im = ax.imshow(table)\n",
    "ax.set_title(\"Harvest of local farmers (in tons/year)\")\n",
    "fig.tight_layout()\n",
    "\n",
    "plt.show()"
   ]
  },
  {
   "cell_type": "code",
   "execution_count": null,
   "metadata": {},
   "outputs": [],
   "source": []
  },
  {
   "cell_type": "code",
   "execution_count": null,
   "metadata": {},
   "outputs": [],
   "source": []
  },
  {
   "cell_type": "code",
   "execution_count": null,
   "metadata": {},
   "outputs": [],
   "source": []
  },
  {
   "cell_type": "code",
   "execution_count": null,
   "metadata": {},
   "outputs": [],
   "source": []
  },
  {
   "cell_type": "code",
   "execution_count": null,
   "metadata": {},
   "outputs": [],
   "source": []
  },
  {
   "cell_type": "code",
   "execution_count": null,
   "metadata": {},
   "outputs": [],
   "source": [
    "# First set up the figure, the axis, and the plot element we want to animate\n",
    "fig, ax = plt.subplots()\n",
    "\n",
    "im = ax.imshow(table)\n",
    "ax.set_title(\"Teste\")\n",
    "fig.tight_layout()\n",
    "\n",
    "line, = ax.plot([], [], lw=2)\n",
    "# initialization function: plot the background of each frame\n",
    "def init():\n",
    "    line.set_data([], [])\n",
    "    return (line,)\n",
    "\n",
    "# animation function. This is called sequentially\n",
    "def animate(i):\n",
    "    return (ax.imshow(np.random.randint(0,2,(9,9))),)\n",
    "\n",
    "# call the animator. blit=True means only re-draw the parts that have changed.\n",
    "anim = animation.FuncAnimation(fig, animate, init_func=init,\n",
    "                               frames=100, interval=20, blit=True)\n",
    "anim"
   ]
  }
 ],
 "metadata": {
  "colab": {
   "collapsed_sections": [],
   "name": "Algoritmo Genético.ipynb",
   "provenance": [],
   "toc_visible": true,
   "version": "0.3.2"
  },
  "kernelspec": {
   "display_name": "Python 3",
   "language": "python",
   "name": "python3"
  },
  "language_info": {
   "codemirror_mode": {
    "name": "ipython",
    "version": 3
   },
   "file_extension": ".py",
   "mimetype": "text/x-python",
   "name": "python",
   "nbconvert_exporter": "python",
   "pygments_lexer": "ipython3",
   "version": "3.6.5"
  }
 },
 "nbformat": 4,
 "nbformat_minor": 1
}
